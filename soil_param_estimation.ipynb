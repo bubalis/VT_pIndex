{
 "cells": [
  {
   "cell_type": "code",
   "execution_count": 87,
   "metadata": {},
   "outputs": [
    {
     "data": {
      "text/plain": [
       "'C:\\\\Users\\\\benja\\\\VT_P_index\\\\model'"
      ]
     },
     "execution_count": 87,
     "metadata": {},
     "output_type": "execute_result"
    }
   ],
   "source": [
    "os.getcwd()"
   ]
  },
  {
   "cell_type": "code",
   "execution_count": 88,
   "metadata": {},
   "outputs": [],
   "source": [
    "import numpy as np"
   ]
  },
  {
   "cell_type": "code",
   "execution_count": 89,
   "metadata": {},
   "outputs": [],
   "source": [
    "import pandas as pd\n",
    "import os\n",
    "from scipy import stats\n",
    "import geopandas as gpd\n",
    "os.chdir(r\"C:\\Users\\benja\\VT_P_index\\model\")"
   ]
  },
  {
   "cell_type": "code",
   "execution_count": 102,
   "metadata": {},
   "outputs": [],
   "source": [
    "def CDF(X, Xname,**kwargs):\n",
    "    '''Plot the cumulative distribution function of a variable.'''\n",
    "    X=sorted(X)\n",
    "    N=len(X)\n",
    "    Y=[i/N for i in range(N)]\n",
    "    fig= plt.plot(X, Y, '.-', **kwargs)\n",
    "    plt.xlabel(Xname)\n",
    "    plt.ylabel(\"$P_<(x)$\")\n",
    "    return fig"
   ]
  },
  {
   "cell_type": "code",
   "execution_count": 90,
   "metadata": {},
   "outputs": [],
   "source": [
    "df=pd.read_csv(r\"C:\\Users\\benja\\VT_P_index\\soil_test_results.csv\")"
   ]
  },
  {
   "cell_type": "code",
   "execution_count": 91,
   "metadata": {},
   "outputs": [],
   "source": [
    "field_codes='''125\n",
    "133\n",
    "126\n",
    "134\n",
    "128\n",
    "135\n",
    "129\n",
    "136\n",
    "91\n",
    "109\n",
    "94\n",
    "99\n",
    "253\n",
    "88\n",
    "100\n",
    "219\n",
    "101\n",
    "90\n",
    "138\n",
    "83\n",
    "195\n",
    "84\n",
    "230\n",
    "87\n",
    "231\n",
    "86\n",
    "232\n",
    "85\n",
    "137\n",
    "234'''.split('\\n')\n",
    "\n",
    "df['County']=df['County'].apply(lambda x: str(x).upper())\n",
    "\n",
    "field_codes=[int(c) for c in field_codes]\n",
    "df=df[df['Crop ID'].isin(field_codes)]"
   ]
  },
  {
   "cell_type": "code",
   "execution_count": 92,
   "metadata": {},
   "outputs": [
    {
     "data": {
      "text/plain": [
       "'C:\\\\Users\\\\benja\\\\VT_P_index\\\\model'"
      ]
     },
     "execution_count": 92,
     "metadata": {},
     "output_type": "execute_result"
    }
   ],
   "source": [
    "os.getcwd()"
   ]
  },
  {
   "cell_type": "code",
   "execution_count": 93,
   "metadata": {},
   "outputs": [],
   "source": [
    "df['Zip']=df['Zip'].astype(str)\n",
    "df['Zip']='0'+df['Zip']\n",
    "df['Zip']=df['Zip'].apply(lambda x: x.split('-')[0])"
   ]
  },
  {
   "cell_type": "code",
   "execution_count": 94,
   "metadata": {},
   "outputs": [],
   "source": [
    "crop_fields=gpd.read_file(r\"C:\\Users\\benja\\VT_P_index\\model\\P_Index_LandCoverCrops\\P_Index_LandCoverCrops\\Crop_DomSoil.shp\")\n",
    "crs=crop_fields.crs\n",
    "\n",
    "zip_code_path=os.path.join('Source_data', 'VT_ZIP_Code_Areas-shp')\n",
    "soil_tests_path=os.path.join('Source_data', 'soil_test_results.csv')\n",
    "\n",
    "zips=gpd.read_file(zip_code_path)\n",
    "zips.to_crs(crs, inplace=True)\n",
    "\n",
    "\n",
    "counties=gpd.read_file(r\"C:\\Users\\benja\\VT_P_index\\model\\Source_data\\VT_Data_-_County_Boundaries-shp\\VT_Data_-_County_Boundaries.shp\")\n",
    "counties.to_crs(zips.crs, inplace=True)\n",
    "zc=gpd.overlay(zips, counties)\n",
    "\n",
    "zc['Area']=zc.geometry.area\n",
    "zc.sort_values(by='Area', inplace=True, ascending=False)\n",
    "zc=zc.dissolve(by='NAME')\n"
   ]
  },
  {
   "cell_type": "code",
   "execution_count": 95,
   "metadata": {},
   "outputs": [
    {
     "data": {
      "text/html": [
       "<div>\n",
       "<style scoped>\n",
       "    .dataframe tbody tr th:only-of-type {\n",
       "        vertical-align: middle;\n",
       "    }\n",
       "\n",
       "    .dataframe tbody tr th {\n",
       "        vertical-align: top;\n",
       "    }\n",
       "\n",
       "    .dataframe thead th {\n",
       "        text-align: right;\n",
       "    }\n",
       "</style>\n",
       "<table border=\"1\" class=\"dataframe\">\n",
       "  <thead>\n",
       "    <tr style=\"text-align: right;\">\n",
       "      <th></th>\n",
       "      <th>geometry</th>\n",
       "      <th>OBJECTID_1</th>\n",
       "      <th>ZCTA</th>\n",
       "      <th>LSAD</th>\n",
       "      <th>LSAD_TRANS</th>\n",
       "      <th>SHAPESTAre</th>\n",
       "      <th>SHAPESTLen</th>\n",
       "      <th>OBJECTID_2</th>\n",
       "      <th>CNTY</th>\n",
       "      <th>CNTYNAME</th>\n",
       "      <th>CNTYGEOID</th>\n",
       "      <th>ShapeSTAre</th>\n",
       "      <th>ShapeSTLen</th>\n",
       "      <th>Area</th>\n",
       "    </tr>\n",
       "    <tr>\n",
       "      <th>NAME</th>\n",
       "      <th></th>\n",
       "      <th></th>\n",
       "      <th></th>\n",
       "      <th></th>\n",
       "      <th></th>\n",
       "      <th></th>\n",
       "      <th></th>\n",
       "      <th></th>\n",
       "      <th></th>\n",
       "      <th></th>\n",
       "      <th></th>\n",
       "      <th></th>\n",
       "      <th></th>\n",
       "      <th></th>\n",
       "    </tr>\n",
       "  </thead>\n",
       "  <tbody>\n",
       "    <tr>\n",
       "      <th>05001</th>\n",
       "      <td>MULTIPOLYGON (((704891.210 4844418.351, 704991...</td>\n",
       "      <td>226</td>\n",
       "      <td>05001</td>\n",
       "      <td>Z5</td>\n",
       "      <td>5-Digit ZCTA</td>\n",
       "      <td>7.429592e+07</td>\n",
       "      <td>64730.410355</td>\n",
       "      <td>4</td>\n",
       "      <td>27</td>\n",
       "      <td>WINDSOR</td>\n",
       "      <td>50027</td>\n",
       "      <td>2.529818e+09</td>\n",
       "      <td>311640.033527</td>\n",
       "      <td>7.425044e+07</td>\n",
       "    </tr>\n",
       "    <tr>\n",
       "      <th>05031</th>\n",
       "      <td>POLYGON ((693993.921 4847049.191, 693985.407 4...</td>\n",
       "      <td>217</td>\n",
       "      <td>05031</td>\n",
       "      <td>Z5</td>\n",
       "      <td>5-Digit ZCTA</td>\n",
       "      <td>1.189134e+07</td>\n",
       "      <td>18631.095225</td>\n",
       "      <td>4</td>\n",
       "      <td>27</td>\n",
       "      <td>WINDSOR</td>\n",
       "      <td>50027</td>\n",
       "      <td>2.529818e+09</td>\n",
       "      <td>311640.033527</td>\n",
       "      <td>1.189365e+07</td>\n",
       "    </tr>\n",
       "    <tr>\n",
       "      <th>05032</th>\n",
       "      <td>POLYGON ((691545.694 4861895.271, 694310.706 4...</td>\n",
       "      <td>194</td>\n",
       "      <td>05032</td>\n",
       "      <td>Z5</td>\n",
       "      <td>5-Digit ZCTA</td>\n",
       "      <td>1.897057e+08</td>\n",
       "      <td>120352.110715</td>\n",
       "      <td>4</td>\n",
       "      <td>27</td>\n",
       "      <td>WINDSOR</td>\n",
       "      <td>50027</td>\n",
       "      <td>2.529818e+09</td>\n",
       "      <td>311640.033527</td>\n",
       "      <td>1.897287e+08</td>\n",
       "    </tr>\n",
       "    <tr>\n",
       "      <th>05033</th>\n",
       "      <td>POLYGON ((725913.459 4882172.215, 731559.599 4...</td>\n",
       "      <td>176</td>\n",
       "      <td>05033</td>\n",
       "      <td>Z5</td>\n",
       "      <td>5-Digit ZCTA</td>\n",
       "      <td>9.468930e+07</td>\n",
       "      <td>60840.430645</td>\n",
       "      <td>11</td>\n",
       "      <td>17</td>\n",
       "      <td>ORANGE</td>\n",
       "      <td>50017</td>\n",
       "      <td>1.790718e+09</td>\n",
       "      <td>208655.885389</td>\n",
       "      <td>9.431779e+07</td>\n",
       "    </tr>\n",
       "    <tr>\n",
       "      <th>05034</th>\n",
       "      <td>POLYGON ((692615.788 4832320.852, 692898.320 4...</td>\n",
       "      <td>244</td>\n",
       "      <td>05034</td>\n",
       "      <td>Z5</td>\n",
       "      <td>5-Digit ZCTA</td>\n",
       "      <td>1.576796e+07</td>\n",
       "      <td>23361.431592</td>\n",
       "      <td>4</td>\n",
       "      <td>27</td>\n",
       "      <td>WINDSOR</td>\n",
       "      <td>50027</td>\n",
       "      <td>2.529818e+09</td>\n",
       "      <td>311640.033527</td>\n",
       "      <td>1.577059e+07</td>\n",
       "    </tr>\n",
       "    <tr>\n",
       "      <th>...</th>\n",
       "      <td>...</td>\n",
       "      <td>...</td>\n",
       "      <td>...</td>\n",
       "      <td>...</td>\n",
       "      <td>...</td>\n",
       "      <td>...</td>\n",
       "      <td>...</td>\n",
       "      <td>...</td>\n",
       "      <td>...</td>\n",
       "      <td>...</td>\n",
       "      <td>...</td>\n",
       "      <td>...</td>\n",
       "      <td>...</td>\n",
       "      <td>...</td>\n",
       "    </tr>\n",
       "    <tr>\n",
       "      <th>05903</th>\n",
       "      <td>POLYGON ((763239.214 4989707.163, 767116.978 4...</td>\n",
       "      <td>2</td>\n",
       "      <td>05903</td>\n",
       "      <td>Z5</td>\n",
       "      <td>5-Digit ZCTA</td>\n",
       "      <td>1.753877e+08</td>\n",
       "      <td>74089.799427</td>\n",
       "      <td>8</td>\n",
       "      <td>9</td>\n",
       "      <td>ESSEX</td>\n",
       "      <td>50009</td>\n",
       "      <td>1.740875e+09</td>\n",
       "      <td>275955.161519</td>\n",
       "      <td>1.745490e+08</td>\n",
       "    </tr>\n",
       "    <tr>\n",
       "      <th>05904</th>\n",
       "      <td>POLYGON ((759663.156 4922366.165, 759608.251 4...</td>\n",
       "      <td>111</td>\n",
       "      <td>05904</td>\n",
       "      <td>Z5</td>\n",
       "      <td>5-Digit ZCTA</td>\n",
       "      <td>1.351188e+07</td>\n",
       "      <td>16840.148107</td>\n",
       "      <td>8</td>\n",
       "      <td>9</td>\n",
       "      <td>ESSEX</td>\n",
       "      <td>50009</td>\n",
       "      <td>1.740875e+09</td>\n",
       "      <td>275955.161519</td>\n",
       "      <td>1.336800e+07</td>\n",
       "    </tr>\n",
       "    <tr>\n",
       "      <th>05905</th>\n",
       "      <td>POLYGON ((763523.904 4974944.230, 769770.692 4...</td>\n",
       "      <td>33</td>\n",
       "      <td>05905</td>\n",
       "      <td>Z5</td>\n",
       "      <td>5-Digit ZCTA</td>\n",
       "      <td>4.515635e+08</td>\n",
       "      <td>142172.620343</td>\n",
       "      <td>8</td>\n",
       "      <td>9</td>\n",
       "      <td>ESSEX</td>\n",
       "      <td>50009</td>\n",
       "      <td>1.740875e+09</td>\n",
       "      <td>275955.161519</td>\n",
       "      <td>4.494344e+08</td>\n",
       "    </tr>\n",
       "    <tr>\n",
       "      <th>05906</th>\n",
       "      <td>POLYGON ((761607.175 4936999.363, 767381.810 4...</td>\n",
       "      <td>96</td>\n",
       "      <td>05906</td>\n",
       "      <td>Z5</td>\n",
       "      <td>5-Digit ZCTA</td>\n",
       "      <td>1.172470e+08</td>\n",
       "      <td>61318.387336</td>\n",
       "      <td>8</td>\n",
       "      <td>9</td>\n",
       "      <td>ESSEX</td>\n",
       "      <td>50009</td>\n",
       "      <td>1.740875e+09</td>\n",
       "      <td>275955.161519</td>\n",
       "      <td>1.172467e+08</td>\n",
       "    </tr>\n",
       "    <tr>\n",
       "      <th>05907</th>\n",
       "      <td>POLYGON ((760187.394 4989522.184, 759360.450 4...</td>\n",
       "      <td>10</td>\n",
       "      <td>05907</td>\n",
       "      <td>Z5</td>\n",
       "      <td>5-Digit ZCTA</td>\n",
       "      <td>2.840138e+08</td>\n",
       "      <td>79361.893996</td>\n",
       "      <td>8</td>\n",
       "      <td>9</td>\n",
       "      <td>ESSEX</td>\n",
       "      <td>50009</td>\n",
       "      <td>1.740875e+09</td>\n",
       "      <td>275955.161519</td>\n",
       "      <td>2.796947e+08</td>\n",
       "    </tr>\n",
       "  </tbody>\n",
       "</table>\n",
       "<p>261 rows × 14 columns</p>\n",
       "</div>"
      ],
      "text/plain": [
       "                                                geometry  OBJECTID_1   ZCTA  \\\n",
       "NAME                                                                          \n",
       "05001  MULTIPOLYGON (((704891.210 4844418.351, 704991...         226  05001   \n",
       "05031  POLYGON ((693993.921 4847049.191, 693985.407 4...         217  05031   \n",
       "05032  POLYGON ((691545.694 4861895.271, 694310.706 4...         194  05032   \n",
       "05033  POLYGON ((725913.459 4882172.215, 731559.599 4...         176  05033   \n",
       "05034  POLYGON ((692615.788 4832320.852, 692898.320 4...         244  05034   \n",
       "...                                                  ...         ...    ...   \n",
       "05903  POLYGON ((763239.214 4989707.163, 767116.978 4...           2  05903   \n",
       "05904  POLYGON ((759663.156 4922366.165, 759608.251 4...         111  05904   \n",
       "05905  POLYGON ((763523.904 4974944.230, 769770.692 4...          33  05905   \n",
       "05906  POLYGON ((761607.175 4936999.363, 767381.810 4...          96  05906   \n",
       "05907  POLYGON ((760187.394 4989522.184, 759360.450 4...          10  05907   \n",
       "\n",
       "      LSAD    LSAD_TRANS    SHAPESTAre     SHAPESTLen  OBJECTID_2  CNTY  \\\n",
       "NAME                                                                      \n",
       "05001   Z5  5-Digit ZCTA  7.429592e+07   64730.410355           4    27   \n",
       "05031   Z5  5-Digit ZCTA  1.189134e+07   18631.095225           4    27   \n",
       "05032   Z5  5-Digit ZCTA  1.897057e+08  120352.110715           4    27   \n",
       "05033   Z5  5-Digit ZCTA  9.468930e+07   60840.430645          11    17   \n",
       "05034   Z5  5-Digit ZCTA  1.576796e+07   23361.431592           4    27   \n",
       "...    ...           ...           ...            ...         ...   ...   \n",
       "05903   Z5  5-Digit ZCTA  1.753877e+08   74089.799427           8     9   \n",
       "05904   Z5  5-Digit ZCTA  1.351188e+07   16840.148107           8     9   \n",
       "05905   Z5  5-Digit ZCTA  4.515635e+08  142172.620343           8     9   \n",
       "05906   Z5  5-Digit ZCTA  1.172470e+08   61318.387336           8     9   \n",
       "05907   Z5  5-Digit ZCTA  2.840138e+08   79361.893996           8     9   \n",
       "\n",
       "      CNTYNAME CNTYGEOID    ShapeSTAre     ShapeSTLen          Area  \n",
       "NAME                                                                 \n",
       "05001  WINDSOR     50027  2.529818e+09  311640.033527  7.425044e+07  \n",
       "05031  WINDSOR     50027  2.529818e+09  311640.033527  1.189365e+07  \n",
       "05032  WINDSOR     50027  2.529818e+09  311640.033527  1.897287e+08  \n",
       "05033   ORANGE     50017  1.790718e+09  208655.885389  9.431779e+07  \n",
       "05034  WINDSOR     50027  2.529818e+09  311640.033527  1.577059e+07  \n",
       "...        ...       ...           ...            ...           ...  \n",
       "05903    ESSEX     50009  1.740875e+09  275955.161519  1.745490e+08  \n",
       "05904    ESSEX     50009  1.740875e+09  275955.161519  1.336800e+07  \n",
       "05905    ESSEX     50009  1.740875e+09  275955.161519  4.494344e+08  \n",
       "05906    ESSEX     50009  1.740875e+09  275955.161519  1.172467e+08  \n",
       "05907    ESSEX     50009  1.740875e+09  275955.161519  2.796947e+08  \n",
       "\n",
       "[261 rows x 14 columns]"
      ]
     },
     "execution_count": 95,
     "metadata": {},
     "output_type": "execute_result"
    }
   ],
   "source": [
    "zc"
   ]
  },
  {
   "cell_type": "code",
   "execution_count": 96,
   "metadata": {},
   "outputs": [],
   "source": [
    "gdf=gpd.GeoDataFrame(pd.merge(df, zc, right_on='ZCTA', left_on='Zip', \n",
    "                              how='left', validate='many_to_one'))\n",
    "gdf.drop(columns=['CNTYGEOID', 'ShapeSTAre', 'ShapeSTLen', \n",
    "         'Area', 'LSAD', 'LSAD_TRANS', 'SHAPESTAre', 'SHAPESTLen', 'OBJECTID_2',\n",
    "       'CNTY', 'OBJECTID_1',], inplace=True)\n",
    "\n",
    "gdf['County']=gdf['CNTYNAME']\n",
    "\n",
    "\n",
    "gdf=gdf[gdf['geometry'].isna()==False]\n",
    "gdf=gdf[gdf['County'].isin(['ADDISON', 'GRAND ISLE', \"CHITTENDEN\", 'FRANKLIN'])]\n",
    "\n",
    "\n",
    "gb=gdf[['Zip','P','Al', 'geometry']]\n",
    "\n",
    "gb1=gb.dissolve('Zip', aggfunc='mean')\n",
    "\n",
    "gb2=gdf[['County','P','Al', 'geometry']]\n",
    "gb4=gb2.dissolve('County', aggfunc='mean')\n",
    "\n",
    "gb3=gb2.dissolve('County', aggfunc='count')\n",
    "\n",
    "\n",
    "gb5=gb2.dissolve('County', aggfunc='median')"
   ]
  },
  {
   "cell_type": "code",
   "execution_count": 234,
   "metadata": {},
   "outputs": [
    {
     "data": {
      "text/plain": [
       "array([5.0000e-01, 5.0000e-01, 5.5000e-01, ..., 2.6040e+02, 6.7500e+02,\n",
       "       1.0675e+03])"
      ]
     },
     "execution_count": 234,
     "metadata": {},
     "output_type": "execute_result"
    }
   ],
   "source": [
    "np.sort(P.values)"
   ]
  },
  {
   "cell_type": "code",
   "execution_count": 98,
   "metadata": {},
   "outputs": [],
   "source": [
    "import matplotlib.pyplot as plt"
   ]
  },
  {
   "cell_type": "code",
   "execution_count": 99,
   "metadata": {},
   "outputs": [],
   "source": [
    "P=gdf[gdf['P'].isna()==False]['P']\n",
    "Al=gdf[gdf['Al'].isna()==False]['Al']"
   ]
  },
  {
   "cell_type": "code",
   "execution_count": 104,
   "metadata": {},
   "outputs": [],
   "source": [
    "import pystan\n",
    "import numpy as np"
   ]
  },
  {
   "cell_type": "code",
   "execution_count": 591,
   "metadata": {},
   "outputs": [
    {
     "name": "stderr",
     "output_type": "stream",
     "text": [
      "INFO:pystan:COMPILING THE C++ CODE FOR MODEL anon_model_3056885ae920e8ab14b4392bf81d330a NOW.\n"
     ]
    },
    {
     "name": "stdout",
     "output_type": "stream",
     "text": [
      "Inference for Stan model: anon_model_3056885ae920e8ab14b4392bf81d330a.\n",
      "4 chains, each with iter=2000; warmup=1000; thin=1; \n",
      "post-warmup draws per chain=1000, total post-warmup draws=4000.\n",
      "\n",
      "        mean se_mean     sd   2.5%    25%    50%    75%  97.5%  n_eff   Rhat\n",
      "alpha   1.08  2.7e-4   0.01   1.05   1.07   1.08   1.09   1.11   3042    1.0\n",
      "beta    1.12  1.7e-4   0.01    1.1   1.11   1.12   1.12   1.14   3739    1.0\n",
      "lp__   -3647    0.02   0.99  -3650  -3648  -3647  -3647  -3647   1836    1.0\n",
      "\n",
      "Samples were drawn using NUTS at Thu Aug 27 19:01:44 2020.\n",
      "For each parameter, n_eff is a crude measure of effective sample size,\n",
      "and Rhat is the potential scale reduction factor on split chains (at \n",
      "convergence, Rhat=1).\n"
     ]
    }
   ],
   "source": [
    "model_code = \"\"\"\n",
    "    data {\n",
    "      int<lower=0> N;\n",
    "      real<lower=0> y[N];\n",
    "    }\n",
    "    parameters {\n",
    "      real<lower=0> alpha;\n",
    "      real<lower=0> beta;\n",
    "    }\n",
    "    model {\n",
    "      alpha ~ uniform(0, 20; \n",
    "      beta ~ uniform(0, 20);\n",
    "      y ~  lognormal(alpha, beta);\n",
    "    }\n",
    "\"\"\"\n",
    "\n",
    "data = np.sort(P.values)-.4\n",
    "sm = pystan.StanModel(model_code=model_code)\n",
    "P_fit = sm.sampling(data=dict(y=data, N=len(data)))\n",
    "print(P_fit)\n",
    "\n"
   ]
  },
  {
   "cell_type": "code",
   "execution_count": null,
   "metadata": {},
   "outputs": [],
   "source": [
    "alpha=P_fit['alpha'].mean()\n",
    "beta=P_fit['beta'].mean()"
   ]
  },
  {
   "cell_type": "code",
   "execution_count": 592,
   "metadata": {},
   "outputs": [],
   "source": [
    "sim_vals=stats.lognorm(P_fit['alpha'].mean(), \n",
    "            scale=np.exp(P_fit['beta'].mean())).rvs(4000)+.4"
   ]
  },
  {
   "cell_type": "code",
   "execution_count": 605,
   "metadata": {},
   "outputs": [
    {
     "data": {
      "text/plain": [
       "2.645160951479613"
      ]
     },
     "execution_count": 605,
     "metadata": {},
     "output_type": "execute_result"
    }
   ],
   "source": [
    "np.exp(beta)"
   ]
  },
  {
   "cell_type": "code",
   "execution_count": 594,
   "metadata": {},
   "outputs": [
    {
     "data": {
      "text/plain": [
       "5.883228610807101"
      ]
     },
     "execution_count": 594,
     "metadata": {},
     "output_type": "execute_result"
    }
   ],
   "source": [
    "sim_vals.mean()"
   ]
  },
  {
   "cell_type": "code",
   "execution_count": 584,
   "metadata": {},
   "outputs": [
    {
     "data": {
      "text/plain": [
       "7.489795918367347"
      ]
     },
     "execution_count": 584,
     "metadata": {},
     "output_type": "execute_result"
    }
   ],
   "source": [
    "3.67/(1.49-1)"
   ]
  },
  {
   "cell_type": "code",
   "execution_count": 414,
   "metadata": {},
   "outputs": [],
   "source": []
  },
  {
   "cell_type": "code",
   "execution_count": 530,
   "metadata": {},
   "outputs": [],
   "source": [
    "sim_vals=stats.invgamma(alpha, scale=beta).rvs(4000)"
   ]
  },
  {
   "cell_type": "code",
   "execution_count": 531,
   "metadata": {},
   "outputs": [
    {
     "data": {
      "text/plain": [
       "6.116953133080377"
      ]
     },
     "execution_count": 531,
     "metadata": {},
     "output_type": "execute_result"
    }
   ],
   "source": [
    "sim_vals.mean()"
   ]
  },
  {
   "cell_type": "code",
   "execution_count": null,
   "metadata": {},
   "outputs": [],
   "source": []
  },
  {
   "cell_type": "code",
   "execution_count": 595,
   "metadata": {},
   "outputs": [
    {
     "data": {
      "text/plain": [
       "[<matplotlib.lines.Line2D at 0x2a6bc239888>]"
      ]
     },
     "execution_count": 595,
     "metadata": {},
     "output_type": "execute_result"
    },
    {
     "data": {
      "image/png": "[encoded data removed]",
      "text/plain": [
       "<Figure size 432x288 with 1 Axes>"
      ]
     },
     "metadata": {
      "needs_background": "light"
     },
     "output_type": "display_data"
    }
   ],
   "source": [
    "CDF(sim_vals, '')"
   ]
  },
  {
   "cell_type": "code",
   "execution_count": 596,
   "metadata": {},
   "outputs": [
    {
     "data": {
      "text/plain": [
       "[<matplotlib.lines.Line2D at 0x2a6c35f6248>]"
      ]
     },
     "execution_count": 596,
     "metadata": {},
     "output_type": "execute_result"
    },
    {
     "data": {
      "image/png": "[encoded data removed]",
      "text/plain": [
       "<Figure size 432x288 with 1 Axes>"
      ]
     },
     "metadata": {
      "needs_background": "light"
     },
     "output_type": "display_data"
    }
   ],
   "source": [
    "CDF(Pv, '')"
   ]
  },
  {
   "cell_type": "code",
   "execution_count": 597,
   "metadata": {},
   "outputs": [],
   "source": [
    "Pv=P.values\n",
    "np.random.shuffle(Pv)\n",
    "dif_vals=np.sort(Pv[:4000])/np.sort(sim_vals)"
   ]
  },
  {
   "cell_type": "code",
   "execution_count": 601,
   "metadata": {},
   "outputs": [
    {
     "data": {
      "text/plain": [
       "(array([5.189e+03, 4.810e+02, 1.570e+02, 5.900e+01, 3.300e+01, 2.100e+01,\n",
       "        1.100e+01, 4.000e+00, 0.000e+00, 2.000e+00, 3.000e+00, 1.000e+00,\n",
       "        2.000e+00, 3.000e+00, 2.000e+00, 0.000e+00, 1.000e+00, 1.000e+00,\n",
       "        1.000e+00, 0.000e+00, 1.000e+00, 0.000e+00, 0.000e+00, 0.000e+00,\n",
       "        1.000e+00, 0.000e+00, 0.000e+00, 0.000e+00, 0.000e+00, 0.000e+00,\n",
       "        0.000e+00, 0.000e+00, 0.000e+00, 0.000e+00, 0.000e+00, 0.000e+00,\n",
       "        0.000e+00, 0.000e+00, 0.000e+00, 0.000e+00, 0.000e+00, 0.000e+00,\n",
       "        0.000e+00, 0.000e+00, 0.000e+00, 0.000e+00, 0.000e+00, 0.000e+00,\n",
       "        0.000e+00, 0.000e+00, 0.000e+00, 0.000e+00, 0.000e+00, 0.000e+00,\n",
       "        0.000e+00, 0.000e+00, 0.000e+00, 0.000e+00, 0.000e+00, 0.000e+00,\n",
       "        0.000e+00, 0.000e+00, 0.000e+00, 1.000e+00, 0.000e+00, 0.000e+00,\n",
       "        0.000e+00, 0.000e+00, 0.000e+00, 0.000e+00, 0.000e+00, 0.000e+00,\n",
       "        0.000e+00, 0.000e+00, 0.000e+00, 0.000e+00, 0.000e+00, 0.000e+00,\n",
       "        0.000e+00, 0.000e+00, 0.000e+00, 0.000e+00, 0.000e+00, 0.000e+00,\n",
       "        0.000e+00, 0.000e+00, 0.000e+00, 0.000e+00, 0.000e+00, 0.000e+00,\n",
       "        0.000e+00, 0.000e+00, 0.000e+00, 0.000e+00, 0.000e+00, 0.000e+00,\n",
       "        0.000e+00, 0.000e+00, 0.000e+00, 1.000e+00]),\n",
       " array([5.00000e-01, 1.11700e+01, 2.18400e+01, 3.25100e+01, 4.31800e+01,\n",
       "        5.38500e+01, 6.45200e+01, 7.51900e+01, 8.58600e+01, 9.65300e+01,\n",
       "        1.07200e+02, 1.17870e+02, 1.28540e+02, 1.39210e+02, 1.49880e+02,\n",
       "        1.60550e+02, 1.71220e+02, 1.81890e+02, 1.92560e+02, 2.03230e+02,\n",
       "        2.13900e+02, 2.24570e+02, 2.35240e+02, 2.45910e+02, 2.56580e+02,\n",
       "        2.67250e+02, 2.77920e+02, 2.88590e+02, 2.99260e+02, 3.09930e+02,\n",
       "        3.20600e+02, 3.31270e+02, 3.41940e+02, 3.52610e+02, 3.63280e+02,\n",
       "        3.73950e+02, 3.84620e+02, 3.95290e+02, 4.05960e+02, 4.16630e+02,\n",
       "        4.27300e+02, 4.37970e+02, 4.48640e+02, 4.59310e+02, 4.69980e+02,\n",
       "        4.80650e+02, 4.91320e+02, 5.01990e+02, 5.12660e+02, 5.23330e+02,\n",
       "        5.34000e+02, 5.44670e+02, 5.55340e+02, 5.66010e+02, 5.76680e+02,\n",
       "        5.87350e+02, 5.98020e+02, 6.08690e+02, 6.19360e+02, 6.30030e+02,\n",
       "        6.40700e+02, 6.51370e+02, 6.62040e+02, 6.72710e+02, 6.83380e+02,\n",
       "        6.94050e+02, 7.04720e+02, 7.15390e+02, 7.26060e+02, 7.36730e+02,\n",
       "        7.47400e+02, 7.58070e+02, 7.68740e+02, 7.79410e+02, 7.90080e+02,\n",
       "        8.00750e+02, 8.11420e+02, 8.22090e+02, 8.32760e+02, 8.43430e+02,\n",
       "        8.54100e+02, 8.64770e+02, 8.75440e+02, 8.86110e+02, 8.96780e+02,\n",
       "        9.07450e+02, 9.18120e+02, 9.28790e+02, 9.39460e+02, 9.50130e+02,\n",
       "        9.60800e+02, 9.71470e+02, 9.82140e+02, 9.92810e+02, 1.00348e+03,\n",
       "        1.01415e+03, 1.02482e+03, 1.03549e+03, 1.04616e+03, 1.05683e+03,\n",
       "        1.06750e+03]),\n",
       " <a list of 100 Patch objects>)"
      ]
     },
     "execution_count": 601,
     "metadata": {},
     "output_type": "execute_result"
    },
    {
     "data": {
      "image/png": "[encoded data removed]",
      "text/plain": [
       "<Figure size 432x288 with 1 Axes>"
      ]
     },
     "metadata": {
      "needs_background": "light"
     },
     "output_type": "display_data"
    }
   ],
   "source": [
    "plt.hist(P.values, bins=100)"
   ]
  },
  {
   "cell_type": "code",
   "execution_count": 604,
   "metadata": {},
   "outputs": [],
   "source": [
    "stats.lognorm?"
   ]
  },
  {
   "cell_type": "code",
   "execution_count": 603,
   "metadata": {},
   "outputs": [
    {
     "data": {
      "text/plain": [
       "[<matplotlib.lines.Line2D at 0x2a6c00ac688>]"
      ]
     },
     "execution_count": 603,
     "metadata": {},
     "output_type": "execute_result"
    },
    {
     "data": {
      "image/png": "[encoded data removed]",
      "text/plain": [
       "<Figure size 432x288 with 1 Axes>"
      ]
     },
     "metadata": {
      "needs_background": "light"
     },
     "output_type": "display_data"
    }
   ],
   "source": [
    "plt.plot(dif_vals[:3000])"
   ]
  },
  {
   "cell_type": "code",
   "execution_count": 654,
   "metadata": {},
   "outputs": [],
   "source": [
    "Al=df[df['Al'].isna()==False]['Al']"
   ]
  },
  {
   "cell_type": "code",
   "execution_count": 660,
   "metadata": {},
   "outputs": [
    {
     "data": {
      "text/plain": [
       "array([111., 126., 132., ...,  11.,  23.,  11.])"
      ]
     },
     "execution_count": 660,
     "metadata": {},
     "output_type": "execute_result"
    }
   ],
   "source": [
    "Az"
   ]
  },
  {
   "cell_type": "code",
   "execution_count": 655,
   "metadata": {},
   "outputs": [],
   "source": [
    "Az=Al.values"
   ]
  },
  {
   "cell_type": "code",
   "execution_count": 752,
   "metadata": {},
   "outputs": [
    {
     "data": {
      "text/plain": [
       "2.0"
      ]
     },
     "execution_count": 752,
     "metadata": {},
     "output_type": "execute_result"
    }
   ],
   "source": [
    "Az.min()"
   ]
  },
  {
   "cell_type": "code",
   "execution_count": 753,
   "metadata": {},
   "outputs": [],
   "source": [
    "shift=Az.min()-.0001"
   ]
  },
  {
   "cell_type": "code",
   "execution_count": 754,
   "metadata": {},
   "outputs": [
    {
     "name": "stderr",
     "output_type": "stream",
     "text": [
      "INFO:pystan:COMPILING THE C++ CODE FOR MODEL anon_model_71f2afb64305377f9d4259e576ac0c7a NOW.\n"
     ]
    },
    {
     "name": "stdout",
     "output_type": "stream",
     "text": [
      "Inference for Stan model: anon_model_71f2afb64305377f9d4259e576ac0c7a.\n",
      "4 chains, each with iter=2000; warmup=1000; thin=1; \n",
      "post-warmup draws per chain=1000, total post-warmup draws=4000.\n",
      "\n",
      "        mean se_mean     sd   2.5%    25%    50%    75%  97.5%  n_eff   Rhat\n",
      "alpha   1.25  3.7e-4   0.01   1.22   1.24   1.25   1.26   1.27   1150    1.0\n",
      "beta    0.02  6.2e-6 2.1e-4   0.02   0.02   0.02   0.02   0.02   1136    1.0\n",
      "lp__  -8.2e4    0.03   0.93 -8.2e4 -8.2e4 -8.2e4 -8.2e4 -8.2e4   1283    1.0\n",
      "\n",
      "Samples were drawn using NUTS at Fri Aug 28 10:00:38 2020.\n",
      "For each parameter, n_eff is a crude measure of effective sample size,\n",
      "and Rhat is the potential scale reduction factor on split chains (at \n",
      "convergence, Rhat=1).\n"
     ]
    }
   ],
   "source": [
    "model_code = \"\"\"\n",
    "    data {\n",
    "      int<lower=0> N;\n",
    "      real<lower=0> y[N];\n",
    "    }\n",
    "    parameters {\n",
    "      real<lower=0> alpha;\n",
    "      real<lower=0> beta;\n",
    "    }\n",
    "    model {\n",
    "      alpha ~ uniform(0, 500); \n",
    "      beta ~ uniform(0, 500);\n",
    "      y ~  gamma(alpha, beta);\n",
    "    }\n",
    "\"\"\"\n",
    "\n",
    "data = Az-shift\n",
    "sm = pystan.StanModel(model_code=model_code)\n",
    "Al_fit = sm.sampling(data=dict(y=data, N=len(data)))\n",
    "print(Al_fit)"
   ]
  },
  {
   "cell_type": "code",
   "execution_count": 700,
   "metadata": {},
   "outputs": [],
   "source": [
    "import matplotlib.pyplot as plt\n"
   ]
  },
  {
   "cell_type": "code",
   "execution_count": 701,
   "metadata": {},
   "outputs": [
    {
     "data": {
      "text/plain": [
       "1.99999"
      ]
     },
     "execution_count": 701,
     "metadata": {},
     "output_type": "execute_result"
    }
   ],
   "source": [
    "Al.values.min()-.00001"
   ]
  },
  {
   "cell_type": "code",
   "execution_count": 750,
   "metadata": {},
   "outputs": [
    {
     "data": {
      "text/plain": [
       "9.999999999998899e-05"
      ]
     },
     "execution_count": 750,
     "metadata": {},
     "output_type": "execute_result"
    }
   ],
   "source": [
    "shift"
   ]
  },
  {
   "cell_type": "code",
   "execution_count": 755,
   "metadata": {},
   "outputs": [],
   "source": [
    "sim_vals=stats.gamma(Al_fit['alpha'].mean(), \n",
    "            scale=1/Al_fit['beta'].mean(), loc=shift).rvs(4000)"
   ]
  },
  {
   "cell_type": "code",
   "execution_count": 748,
   "metadata": {},
   "outputs": [],
   "source": [
    "rv=stats.gamma(Al_fit['alpha'].mean(), \n",
    "            scale=1/Al_fit['beta'].mean())"
   ]
  },
  {
   "cell_type": "code",
   "execution_count": 749,
   "metadata": {},
   "outputs": [
    {
     "data": {
      "text/plain": [
       "array([  4.13345531,   4.22834866,   4.30518537, ..., 447.46185294,\n",
       "       456.04777183, 567.65516483])"
      ]
     },
     "execution_count": 749,
     "metadata": {},
     "output_type": "execute_result"
    }
   ],
   "source": [
    "np.sort(sim_vals)"
   ]
  },
  {
   "cell_type": "code",
   "execution_count": 763,
   "metadata": {},
   "outputs": [
    {
     "data": {
      "text/plain": [
       "2.0"
      ]
     },
     "execution_count": 763,
     "metadata": {},
     "output_type": "execute_result"
    }
   ],
   "source": [
    "sim_vals.min()\n",
    "Az.min()"
   ]
  },
  {
   "cell_type": "code",
   "execution_count": 756,
   "metadata": {},
   "outputs": [
    {
     "data": {
      "text/plain": [
       "[<matplotlib.lines.Line2D at 0x2a6d29070c8>]"
      ]
     },
     "execution_count": 756,
     "metadata": {},
     "output_type": "execute_result"
    },
    {
     "data": {
      "image/png": "[encoded data removed]",
      "text/plain": [
       "<Figure size 432x288 with 1 Axes>"
      ]
     },
     "metadata": {
      "needs_background": "light"
     },
     "output_type": "display_data"
    }
   ],
   "source": [
    "CDF(sim_vals, '')"
   ]
  },
  {
   "cell_type": "code",
   "execution_count": 757,
   "metadata": {},
   "outputs": [
    {
     "data": {
      "text/plain": [
       "[<matplotlib.lines.Line2D at 0x2a6cc6f4808>]"
      ]
     },
     "execution_count": 757,
     "metadata": {},
     "output_type": "execute_result"
    },
    {
     "data": {
      "image/png": "[encoded data removed]",
      "text/plain": [
       "<Figure size 432x288 with 1 Axes>"
      ]
     },
     "metadata": {
      "needs_background": "light"
     },
     "output_type": "display_data"
    }
   ],
   "source": [
    "CDF(Az, '')"
   ]
  },
  {
   "cell_type": "code",
   "execution_count": 758,
   "metadata": {},
   "outputs": [],
   "source": [
    "np.random.shuffle(Az)"
   ]
  },
  {
   "cell_type": "code",
   "execution_count": 764,
   "metadata": {},
   "outputs": [],
   "source": [
    "stats.gamma?"
   ]
  },
  {
   "cell_type": "code",
   "execution_count": 761,
   "metadata": {},
   "outputs": [
    {
     "data": {
      "text/plain": [
       "[<matplotlib.lines.Line2D at 0x2a6c82f9c88>]"
      ]
     },
     "execution_count": 761,
     "metadata": {},
     "output_type": "execute_result"
    },
    {
     "data": {
      "image/png": "[encoded data removed]",
      "text/plain": [
       "<Figure size 432x288 with 1 Axes>"
      ]
     },
     "metadata": {
      "needs_background": "light"
     },
     "output_type": "display_data"
    }
   ],
   "source": [
    "vals=np.sort(A)/np.sort(sim_vals)\n",
    "plt.plot(vals)"
   ]
  },
  {
   "cell_type": "code",
   "execution_count": 734,
   "metadata": {},
   "outputs": [
    {
     "data": {
      "text/plain": [
       "array([2., 2., 2., 2., 3., 3., 3., 3., 4., 4., 4., 4., 4., 4., 4., 4., 4.,\n",
       "       5., 5., 5., 5., 5., 5., 5., 5., 5., 5., 5., 5., 5., 5., 5., 5., 5.,\n",
       "       5., 5., 6., 6., 6., 6., 6., 6., 6., 6., 6., 6., 6., 6., 6., 6., 7.,\n",
       "       7., 7., 7., 7., 7., 7., 7., 7., 7., 7., 7., 7., 7., 7., 7., 7., 7.,\n",
       "       7., 7., 7., 7., 7., 7., 7., 7., 7., 7., 7., 8., 8., 8., 8., 8., 8.,\n",
       "       8., 8., 8., 8., 8., 8., 8., 8., 8., 8., 8., 8., 8., 8., 8.])"
      ]
     },
     "execution_count": 734,
     "metadata": {},
     "output_type": "execute_result"
    }
   ],
   "source": [
    "np.sort(A)[:100]"
   ]
  },
  {
   "cell_type": "code",
   "execution_count": 697,
   "metadata": {},
   "outputs": [
    {
     "data": {
      "text/plain": [
       "[<matplotlib.lines.Line2D at 0x2a6c69a0788>]"
      ]
     },
     "execution_count": 697,
     "metadata": {},
     "output_type": "execute_result"
    },
    {
     "data": {
      "image/png": "[encoded data removed]",
      "text/plain": [
       "<Figure size 432x288 with 1 Axes>"
      ]
     },
     "metadata": {
      "needs_background": "light"
     },
     "output_type": "display_data"
    }
   ],
   "source": [
    "vals2=np.sort(A)/np.sort(sim_vals)\n",
    "plt.plot(vals2)"
   ]
  },
  {
   "cell_type": "code",
   "execution_count": 115,
   "metadata": {},
   "outputs": [
    {
     "data": {
      "text/plain": [
       "array([0.11359596, 0.1710703 , 0.29958702, 0.42394427, 0.52750305,\n",
       "       0.56592512, 0.57018199, 0.5882443 , 0.60703672, 0.62197267,\n",
       "       0.67319709, 0.80770055, 0.81664706, 0.84230878, 0.88263384,\n",
       "       0.91341015, 0.92316064, 0.9416652 , 0.95121522, 0.98831099,\n",
       "       1.00348506, 1.00430091, 1.01105573, 1.06915627, 1.07246704,\n",
       "       1.20389818, 1.23309612, 1.24701406, 1.24764009, 1.25612637,\n",
       "       1.31813234, 1.37185203, 1.37206227, 1.38312185, 1.42915614,\n",
       "       1.48148472, 1.48647277, 1.49424038, 1.49445316, 1.54188029,\n",
       "       1.55096309, 1.58705831, 1.60946641, 1.61296749, 1.6616902 ,\n",
       "       1.68045472, 1.690724  , 1.71667099, 1.72457861, 1.7290854 ,\n",
       "       1.75689318, 1.76169709, 1.78298058, 1.8046078 , 1.82987083,\n",
       "       1.85725065, 1.86718745, 1.88035448, 1.99584947, 2.0002906 ,\n",
       "       2.00733153, 2.02362788, 2.04420243, 2.05673412, 2.0987958 ,\n",
       "       2.10015927, 2.10389003, 2.13326402, 2.16994149, 2.1747136 ,\n",
       "       2.17487498, 2.18348838, 2.18444795, 2.20804294, 2.21705546,\n",
       "       2.23147113, 2.34836018, 2.35739372, 2.36321561, 2.37233776,\n",
       "       2.39124142, 2.40085768, 2.40189588, 2.4046356 , 2.40576062,\n",
       "       2.40901604, 2.42618507, 2.47426314, 2.50792914, 2.50825981,\n",
       "       2.51135427, 2.51963049, 2.5240135 , 2.53441381, 2.53873631,\n",
       "       2.54249038, 2.62879008, 2.63037057, 2.65509206, 2.65560891])"
      ]
     },
     "execution_count": 115,
     "metadata": {},
     "output_type": "execute_result"
    }
   ],
   "source": [
    "np.sort(stats.gamma(1.36, scale=1/.03).rvs(4000))[:100]"
   ]
  },
  {
   "cell_type": "code",
   "execution_count": null,
   "metadata": {},
   "outputs": [],
   "source": [
    "np.sort()"
   ]
  },
  {
   "cell_type": "code",
   "execution_count": 168,
   "metadata": {},
   "outputs": [
    {
     "data": {
      "text/plain": [
       "[<matplotlib.lines.Line2D at 0x2a6b7c50848>]"
      ]
     },
     "execution_count": 168,
     "metadata": {},
     "output_type": "execute_result"
    },
    {
     "data": {
      "image/png": "[encoded data removed]",
      "text/plain": [
       "<Figure size 432x288 with 1 Axes>"
      ]
     },
     "metadata": {
      "needs_background": "light"
     },
     "output_type": "display_data"
    }
   ],
   "source": [
    "vals=np.sort(Al.values[:4000])/np.sort(stats.gamma(1.36, scale=1/.03).rvs(4000))[:4000]\n",
    "plt.plot(vals)"
   ]
  },
  {
   "cell_type": "code",
   "execution_count": 176,
   "metadata": {},
   "outputs": [
    {
     "data": {
      "text/plain": [
       "[<matplotlib.lines.Line2D at 0x2a6b4761c88>]"
      ]
     },
     "execution_count": 176,
     "metadata": {},
     "output_type": "execute_result"
    },
    {
     "data": {
      "image/png": "[encoded data removed]",
      "text/plain": [
       "<Figure size 432x288 with 1 Axes>"
      ]
     },
     "metadata": {
      "needs_background": "light"
     },
     "output_type": "display_data"
    }
   ],
   "source": [
    "CDF(P.values, '')"
   ]
  },
  {
   "cell_type": "code",
   "execution_count": 180,
   "metadata": {},
   "outputs": [
    {
     "data": {
      "text/plain": [
       "[<matplotlib.lines.Line2D at 0x2a6b3161d88>]"
      ]
     },
     "execution_count": 180,
     "metadata": {},
     "output_type": "execute_result"
    },
    {
     "data": {
      "image/png": "[encoded data removed]",
      "text/plain": [
       "<Figure size 432x288 with 1 Axes>"
      ]
     },
     "metadata": {
      "needs_background": "light"
     },
     "output_type": "display_data"
    }
   ],
   "source": [
    "CDF(stats.invgamma(1.49, scale=3.67).rvs(4000), '')"
   ]
  },
  {
   "cell_type": "code",
   "execution_count": null,
   "metadata": {},
   "outputs": [],
   "source": []
  },
  {
   "cell_type": "code",
   "execution_count": 188,
   "metadata": {},
   "outputs": [],
   "source": []
  },
  {
   "cell_type": "code",
   "execution_count": 189,
   "metadata": {},
   "outputs": [
    {
     "data": {
      "text/plain": [
       "[<matplotlib.lines.Line2D at 0x2a6b4da7dc8>]"
      ]
     },
     "execution_count": 189,
     "metadata": {},
     "output_type": "execute_result"
    },
    {
     "data": {
      "image/png": "[encoded data removed]",
      "text/plain": [
       "<Figure size 432x288 with 1 Axes>"
      ]
     },
     "metadata": {
      "needs_background": "light"
     },
     "output_type": "display_data"
    }
   ],
   "source": [
    "plt.plot(vals)"
   ]
  },
  {
   "cell_type": "code",
   "execution_count": 174,
   "metadata": {},
   "outputs": [
    {
     "data": {
      "text/plain": [
       "(array([2.966e+03, 5.840e+02, 1.870e+02, 8.700e+01, 4.200e+01, 3.300e+01,\n",
       "        1.600e+01, 1.500e+01, 1.200e+01, 4.000e+00, 9.000e+00, 8.000e+00,\n",
       "        4.000e+00, 3.000e+00, 5.000e+00, 3.000e+00, 3.000e+00, 2.000e+00,\n",
       "        1.000e+00, 3.000e+00, 1.000e+00, 0.000e+00, 0.000e+00, 1.000e+00,\n",
       "        2.000e+00, 0.000e+00, 0.000e+00, 2.000e+00, 0.000e+00, 0.000e+00,\n",
       "        0.000e+00, 0.000e+00, 1.000e+00, 0.000e+00, 1.000e+00, 0.000e+00,\n",
       "        0.000e+00, 0.000e+00, 0.000e+00, 0.000e+00, 0.000e+00, 0.000e+00,\n",
       "        0.000e+00, 0.000e+00, 0.000e+00, 1.000e+00, 0.000e+00, 1.000e+00,\n",
       "        0.000e+00, 0.000e+00, 0.000e+00, 0.000e+00, 0.000e+00, 0.000e+00,\n",
       "        0.000e+00, 0.000e+00, 1.000e+00, 0.000e+00, 0.000e+00, 0.000e+00,\n",
       "        0.000e+00, 1.000e+00, 0.000e+00, 0.000e+00, 0.000e+00, 0.000e+00,\n",
       "        0.000e+00, 0.000e+00, 0.000e+00, 0.000e+00, 0.000e+00, 0.000e+00,\n",
       "        0.000e+00, 0.000e+00, 0.000e+00, 0.000e+00, 0.000e+00, 0.000e+00,\n",
       "        0.000e+00, 0.000e+00, 0.000e+00, 0.000e+00, 0.000e+00, 0.000e+00,\n",
       "        0.000e+00, 0.000e+00, 0.000e+00, 0.000e+00, 0.000e+00, 0.000e+00,\n",
       "        0.000e+00, 0.000e+00, 0.000e+00, 0.000e+00, 0.000e+00, 0.000e+00,\n",
       "        0.000e+00, 0.000e+00, 0.000e+00, 1.000e+00]),\n",
       " array([3.89742038e-01, 5.91213287e+00, 1.14345237e+01, 1.69569145e+01,\n",
       "        2.24793054e+01, 2.80016962e+01, 3.35240871e+01, 3.90464779e+01,\n",
       "        4.45688687e+01, 5.00912596e+01, 5.56136504e+01, 6.11360412e+01,\n",
       "        6.66584321e+01, 7.21808229e+01, 7.77032137e+01, 8.32256046e+01,\n",
       "        8.87479954e+01, 9.42703862e+01, 9.97927771e+01, 1.05315168e+02,\n",
       "        1.10837559e+02, 1.16359950e+02, 1.21882340e+02, 1.27404731e+02,\n",
       "        1.32927122e+02, 1.38449513e+02, 1.43971904e+02, 1.49494295e+02,\n",
       "        1.55016685e+02, 1.60539076e+02, 1.66061467e+02, 1.71583858e+02,\n",
       "        1.77106249e+02, 1.82628640e+02, 1.88151030e+02, 1.93673421e+02,\n",
       "        1.99195812e+02, 2.04718203e+02, 2.10240594e+02, 2.15762985e+02,\n",
       "        2.21285375e+02, 2.26807766e+02, 2.32330157e+02, 2.37852548e+02,\n",
       "        2.43374939e+02, 2.48897330e+02, 2.54419720e+02, 2.59942111e+02,\n",
       "        2.65464502e+02, 2.70986893e+02, 2.76509284e+02, 2.82031675e+02,\n",
       "        2.87554065e+02, 2.93076456e+02, 2.98598847e+02, 3.04121238e+02,\n",
       "        3.09643629e+02, 3.15166020e+02, 3.20688410e+02, 3.26210801e+02,\n",
       "        3.31733192e+02, 3.37255583e+02, 3.42777974e+02, 3.48300365e+02,\n",
       "        3.53822756e+02, 3.59345146e+02, 3.64867537e+02, 3.70389928e+02,\n",
       "        3.75912319e+02, 3.81434710e+02, 3.86957101e+02, 3.92479491e+02,\n",
       "        3.98001882e+02, 4.03524273e+02, 4.09046664e+02, 4.14569055e+02,\n",
       "        4.20091446e+02, 4.25613836e+02, 4.31136227e+02, 4.36658618e+02,\n",
       "        4.42181009e+02, 4.47703400e+02, 4.53225791e+02, 4.58748181e+02,\n",
       "        4.64270572e+02, 4.69792963e+02, 4.75315354e+02, 4.80837745e+02,\n",
       "        4.86360136e+02, 4.91882526e+02, 4.97404917e+02, 5.02927308e+02,\n",
       "        5.08449699e+02, 5.13972090e+02, 5.19494481e+02, 5.25016871e+02,\n",
       "        5.30539262e+02, 5.36061653e+02, 5.41584044e+02, 5.47106435e+02,\n",
       "        5.52628826e+02]),\n",
       " <a list of 100 Patch objects>)"
      ]
     },
     "execution_count": 174,
     "metadata": {},
     "output_type": "execute_result"
    },
    {
     "data": {
      "image/png": "[encoded data removed]",
      "text/plain": [
       "<Figure size 432x288 with 1 Axes>"
      ]
     },
     "metadata": {
      "needs_background": "light"
     },
     "output_type": "display_data"
    }
   ],
   "source": []
  },
  {
   "cell_type": "code",
   "execution_count": 80,
   "metadata": {},
   "outputs": [
    {
     "data": {
      "text/plain": [
       "[<matplotlib.lines.Line2D at 0x2a6ab98f0c8>]"
      ]
     },
     "execution_count": 80,
     "metadata": {},
     "output_type": "execute_result"
    },
    {
     "data": {
      "image/png": "[encoded data removed]",
      "text/plain": [
       "<Figure size 432x288 with 1 Axes>"
      ]
     },
     "metadata": {
      "needs_background": "light"
     },
     "output_type": "display_data"
    }
   ],
   "source": [
    "plt.plot(np.sort(P.values)[:500])"
   ]
  },
  {
   "cell_type": "code",
   "execution_count": 32,
   "metadata": {},
   "outputs": [],
   "source": [
    "import matplotlib.pyplot as plt"
   ]
  },
  {
   "cell_type": "code",
   "execution_count": 62,
   "metadata": {},
   "outputs": [],
   "source": [
    "stats.chi2?"
   ]
  },
  {
   "cell_type": "code",
   "execution_count": 36,
   "metadata": {},
   "outputs": [
    {
     "data": {
      "text/plain": [
       "(4923,)"
      ]
     },
     "execution_count": 36,
     "metadata": {},
     "output_type": "execute_result"
    }
   ],
   "source": [
    "Al.values.shape"
   ]
  },
  {
   "cell_type": "code",
   "execution_count": 81,
   "metadata": {},
   "outputs": [],
   "source": [
    "stats.invgamma?"
   ]
  },
  {
   "cell_type": "code",
   "execution_count": 54,
   "metadata": {},
   "outputs": [
    {
     "data": {
      "text/plain": [
       "<scipy.stats._continuous_distns.chi2_gen at 0x203b810bf08>"
      ]
     },
     "execution_count": 54,
     "metadata": {},
     "output_type": "execute_result"
    }
   ],
   "source": [
    "stats.chi2"
   ]
  },
  {
   "cell_type": "code",
   "execution_count": 55,
   "metadata": {},
   "outputs": [],
   "source": [
    "stats.chi2?"
   ]
  },
  {
   "cell_type": "code",
   "execution_count": null,
   "metadata": {},
   "outputs": [],
   "source": []
  }
 ],
 "metadata": {
  "kernelspec": {
   "display_name": "Python 3",
   "language": "python",
   "name": "python3"
  },
  "language_info": {
   "codemirror_mode": {
    "name": "ipython",
    "version": 3
   },
   "file_extension": ".py",
   "mimetype": "text/x-python",
   "name": "python",
   "nbconvert_exporter": "python",
   "pygments_lexer": "ipython3",
   "version": "3.7.6"
  }
 },
 "nbformat": 4,
 "nbformat_minor": 2
}
